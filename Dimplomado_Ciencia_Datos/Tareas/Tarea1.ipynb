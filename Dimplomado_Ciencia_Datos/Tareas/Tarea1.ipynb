{
 "cells": [
  {
   "cell_type": "markdown",
   "id": "8d80221d-368b-4b2c-8691-99c70bb5ac35",
   "metadata": {},
   "source": [
    "<h1><span style=\"color:#063970\"><center>Tarea 1: Empezando con Jupiter lab</center></span></h1>"
   ]
  },
  {
   "cell_type": "markdown",
   "id": "d29d99e4",
   "metadata": {},
   "source": [
    "<figure>\n",
    "<center>\n",
    "<img src=\"https://www.python.org/static/community_logos/python-logo-master-v3-TM.png\" width=\"600\" height=\"400\" align=\"center\" />\n",
    "    </center>\n",
    "    </figure>\n",
    "    <center>Fuente:<a href=\"https://www.python.org/static/community_logos/python-logo-master-v3-TM.png\">The python logo - https://www.python.org/community/logos/</a> </center>\n",
    "  "
   ]
  },
  {
   "attachments": {},
   "cell_type": "markdown",
   "id": "f8d64460",
   "metadata": {},
   "source": [
    "## <span style=\"color:#063970\"> Autor </span>\n",
    "### Santiago Flórez Carranza \n",
    "  <figure>\n",
    "<img src=\"https://raw.githubusercontent.com/saigo24/Inteligenciaartificial/main/Foto%20Santiago%20ajuste.jpg\" width=\"230\" height=\"173\" align=\"left\" />\n",
    "    </figure>\n",
    "<div style=\"text-align: justify\"> Estudiante de la Universidad Nacional de Colombia sede Bogotá. <br> Lorem ipsum dolor sit amet, consectetur adipiscing elit, sed do eiusmod tempor incididunt ut labore et dolore magna aliqua. Ut enim ad minim veniam, quis nostrud exercitation ullamco laboris nisi ut aliquip ex ea commodo consequat. Duis aute irure dolor in reprehenderit in voluptate velit esse cillum dolore eu fugiat nulla pariatur. Excepteur sint occaecat cupidatat non proident, sunt in culpa qui officia deserunt mollit anim id est laborum. Lorem ipsum dolor sit amet, consectetur adipiscing elit, sed do eiusmod tempor incididunt ut labore et dolore magna aliqua. Ut enim ad minim veniam, quis nostrud exercitation ullamco laboris nisi ut aliquip ex ea commodo consequat. Duis aute irure dolor in reprehenderit in voluptate velit esse cillum dolore eu fugiat nulla pariatur. Excepteur sint occaecat cupidatat non proident, sunt in culpa qui officia deserunt mollit anim id est laborum.\n",
    " Lorem ipsum dolor sit amet, consectetur adipiscing elit, sed do eiusmod tempor incididunt ut labore et dolore magna aliqua. Ut enim ad minim veniam, quis nostrud exercitation ullamco laboris nisi ut aliquip ex ea commodo consequat. Duis aute irure dolor in reprehenderit in voluptate velit esse cillum dolore eu fugiat nulla pariatur. </div>"
   ]
  },
  {
   "cell_type": "markdown",
   "id": "fcbd4f64",
   "metadata": {},
   "source": [
    "# <span style=\"color:#F72585\"><center>Varianza Muestral</center></span> "
   ]
  },
  {
   "cell_type": "markdown",
   "id": "1706e174",
   "metadata": {},
   "source": [
    "Esta sección está basada en [Mendoza, H, Bautista, G. (2002). Probabilidad y Estadística. Universidad Nacional de Colombia](http://red.unal.edu.co/cursos/ciencias/2001065/html/un1/cont_130_30.html) y en [Wikipedia](https://es.wikipedia.org/wiki/Varianza)."
   ]
  },
  {
   "cell_type": "markdown",
   "id": "aa5b3468",
   "metadata": {},
   "source": [
    "La cantidad $S^2$ se llama varianza muestral y tiene un valor fundamental en el análisis estadístico, su interpretación es como sigue: es el promedio de las desviaciones cuadráticas respecto de la media. <br>\n",
    "En muchas situaciones es preciso estimar la varianza poblacional a partir de una [muestra](https://es.wikipedia.org/wiki/Muestra_estad%C3%ADstica). Si se toma una muestra con reemplazo \n",
    "$(x_1,x_2,x_3,...,x_n)$ de n valores de ella, de entre todos los [estimadores](https://es.wikipedia.org/wiki/Estimador) posibles de la varianza de la [población](https://es.wikipedia.org/wiki/Poblaci%C3%B3n_estad%C3%ADstica) de partida, existen dos de uso corriente:<br>\n",
    "El primero de ellos:\n",
    "<center>$s_n^2=\\frac{1}{n} \\sum_{i=1}^n\\left(x_i-\\bar{x}\\right)^2$</center> <br>\n",
    "que puede ser escrito como <center>$s_n^2=\\frac{1}{n} \\sum_{i=1}^n x_i^2-\\bar{x}^2$ </center>\n",
    "<br>pues\n",
    "<center>$\\begin{aligned}\n",
    "s_n^2 & =\\frac{1}{n} \\sum_{i=1}^n\\left(x_i-\\bar{x}\\right)^2 \\\\\n",
    "& =\\frac{1}{n} \\sum_{i=1}^n\\left(x_i^2-2 x_i \\bar{x}+\\bar{x}^2\\right) \\\\\n",
    "& =\\frac{1}{n} \\sum_{i=1}^n x_i^2-\\frac{2 \\bar{x}}{n} \\sum_{i=1}^n x_i+\\bar{x}^2 \\frac{1}{n} \\sum_{i=1}^n 1 \\\\\n",
    "& =\\frac{1}{n} \\sum_{i=1}^n x_i^2-2 \\bar{x}^2+\\bar{x}^2 \\\\\n",
    "& =\\frac{1}{n} \\sum_{i=1}^n x_i^2-\\bar{x}^2\n",
    "\\end{aligned}$</center> <br>\n",
    "y el segundo de ellos es <br>\n",
    "\n",
    "<center>$s^2=\\frac{1}{n-1} \\sum_{i=1}^n\\left(x_i-\\bar{x}\\right)^2$</center> <br>\n",
    "\n",
    "que puede ser escrito como<br>\n",
    "<center>$s^2=\\frac{\\sum_{i=1}^n x_i^2-n \\bar{x}^2}{n-1}$</center><br>\n",
    "pues<br>\n",
    "<center>$ \\begin{aligned}\n",
    "s^2 & =\\frac{1}{n-1} \\sum_{i=1}^n\\left(x_i-\\bar{x}\\right)^2 \\\\\n",
    "& =\\frac{1}{n-1} \\sum_{i=1}^n\\left(x_i^2-2 x_i \\bar{x}+\\bar{x}^2\\right) \\\\\n",
    "& =\\frac{1}{n-1} \\sum_{i=1}^n x_i^2-\\frac{2 \\bar{x}}{n-1} \\sum_{i=1}^n x_i+\\frac{\\bar{x}^2}{n-1} \\sum_{i=1}^n 1 \\\\\n",
    "& =\\frac{1}{n-1} \\sum_{i=1}^n x_i^2-\\frac{2 \\bar{x} n}{n-1} \\frac{1}{n} \\sum_{i=1}^n x_i+\\frac{\\bar{x}^2 n}{n-1} \\\\\n",
    "& =\\frac{1}{n-1} \\sum_{i=1}^n x_i^2-\\frac{2 \\bar{x}^2 n}{n-1}+\\frac{\\bar{x}^2 n}{n-1} \\\\\n",
    "& =\\frac{1}{n-1} \\sum_{i=1}^n x_i^2-\\frac{\\bar{x}^2 n}{n-1} \\\\\n",
    "& =\\frac{\\sum_{i=1}^n x_i^2-n \\bar{x}^2}{n-1}\n",
    "\\end{aligned} $</center>"
   ]
  },
  {
   "cell_type": "markdown",
   "id": "3434236e",
   "metadata": {},
   "source": [
    "A ambos se los denomina **varianza muestral**, difieren ligeramente y, para valores grandes de n, la diferencia es irrelevante. El primero traslada directamente la varianza de la muestra al de la población y el segundo es un [estimador insesgado](https://es.wikipedia.org/wiki/Sesgo_estad%C3%ADstico) de la varianza poblacional pues <br><br>\n",
    "<center>$\\begin{aligned}\n",
    "\\mathrm{E}\\left[s^2\\right] & =\\mathrm{E}\\left[\\frac{1}{n-1} \\sum_{i-1}^n x_i^2-\\frac{n}{n-1} \\bar{x}^2\\right] \\\\\n",
    "& =\\frac{1}{n-1}\\left(\\sum_{i=1}^n \\mathrm{E}\\left[x_i^2\\right]-n \\mathrm{E}\\left[\\bar{x}^2\\right]\\right) \\\\\n",
    "& =\\frac{1}{n-1}\\left(n \\mathrm{E}\\left[x_1^2\\right]-n \\mathrm{E}\\left[\\bar{x}^2\\right]\\right) \\\\\n",
    "& =\\frac{n}{n-1}\\left(\\operatorname{Var}\\left(x_1\\right)+\\mathrm{E}\\left[x_1\\right]^2-\\operatorname{Var}(\\bar{x})-\\mathrm{E}[\\bar{x}]^2\\right) \\\\\n",
    "& =\\frac{n}{n-1}\\left(\\operatorname{Var}\\left(x_1\\right)+\\mu^2-\\frac{1}{n} \\operatorname{Var}\\left(x_1\\right)-\\mu^2\\right) \\\\\n",
    "& =\\frac{n}{n-1}\\left(\\frac{n-1}{n} \\operatorname{Var}\\left(x_1\\right)\\right) \\\\\n",
    "& =\\operatorname{Var}\\left(x_1\\right) \\\\\n",
    "& =\\sigma^2\n",
    "\\end{aligned}$</center>\n",
    "mientras que <br>\n",
    "<center>$E\\left[s_n^2\\right]=\\frac{n-1}{n} \\sigma^2$</center>"
   ]
  },
  {
   "cell_type": "markdown",
   "id": "60a6f33d",
   "metadata": {},
   "source": [
    "#### <span style=\"color:#063970\"> Propiedades de la varianza muestral </span>"
   ]
  },
  {
   "cell_type": "markdown",
   "id": "9367e6e2",
   "metadata": {},
   "source": [
    "Como consecuencia de la igualdad $s^2$ es un estadístico insesgado de $\\sigma ^{2}$. Además, si se cumplen las condiciones necesarias para la [ley de los grandes números](https://es.wikipedia.org/wiki/Ley_de_los_grandes_n%C3%BAmeros), $s^2$ es un [estimador consistente de](https://es.wikipedia.org/wiki/Consistencia_(estad%C3%ADstica)) $\\sigma ^{2}$\n",
    "Más aún, cuando las muestras siguen una [distribución normal](https://es.wikipedia.org/wiki/Distribuci%C3%B3n_normal), por el [teorema de Cochran](https://es.wikipedia.org/wiki/Teorema_de_Cochran), $s^2$  tiene la [distribución chi-cuadrado](https://es.wikipedia.org/wiki/Distribuci%C3%B3n_chi-cuadrado): <br><center>$n \\frac{s^2}{\\sigma^2} \\sim \\chi_{n-1}^2 .$</center>"
   ]
  },
  {
   "cell_type": "markdown",
   "id": "ba4982df",
   "metadata": {},
   "source": [
    "#### <span style=\"color:#063970\"> Interpretaciones de la varianza muestral </span>"
   ]
  },
  {
   "cell_type": "markdown",
   "id": "0449bc67",
   "metadata": {},
   "source": [
    "Dejamos tres fórmulas equivalentes para el cálculo de la varianza muestral $s_n$"
   ]
  },
  {
   "cell_type": "markdown",
   "id": "2c1619f5",
   "metadata": {},
   "source": [
    "$s_n^2=\\frac{1}{n} \\sum_{i-1}^n\\left(y_i-\\bar{y}\\right)^2=\\left(\\frac{1}{n} \\sum_{i=1}^n y_i^2\\right)-\\bar{y}^2=\\frac{1}{n^2} \\sum_{i<j}\\left(y_i-y_j\\right)^2$"
   ]
  },
  {
   "cell_type": "markdown",
   "id": "28f9984f",
   "metadata": {},
   "source": [
    "Esta última igualdad tiene interés para interpretar los estimadores $ s^{2}$ y ${\\displaystyle s_{n}^{2}}$, pues si se quiere evaluar la desviación de unos datos o sus diferencias, se puede optar por calcular el promedio de los cuadrados de las diferencias de cada par de datos:"
   ]
  },
  {
   "attachments": {},
   "cell_type": "markdown",
   "id": "b16027ad",
   "metadata": {},
   "source": [
    "<center>$2 s_n^2=\\frac{\\sum_{(i \\leqslant n, j \\leqslant n)}\\left(y_i-y_j\\right)^2}{n^2}$</center>"
   ]
  },
  {
   "cell_type": "markdown",
   "id": "7c697f5e",
   "metadata": {},
   "source": [
    "O se puede considerar el promedio de los cuadrados de las diferencias de cada par de datos sin tener en cuenta cada dato consigo mismo, ahora el número de sumandos es ${\\displaystyle n\\left(n-1\\right)}$."
   ]
  },
  {
   "cell_type": "markdown",
   "id": "c5dff8a0",
   "metadata": {},
   "source": [
    "<center>$2 s^2=\\frac{\\sum_{i \\neq j}\\left(y_i-y_j\\right)^2}{n(n-1)}$</center>"
   ]
  },
  {
   "cell_type": "markdown",
   "id": "7f030936",
   "metadata": {},
   "source": [
    "#### <span style=\"color:#063970\"> Ejemplo </span>"
   ]
  },
  {
   "cell_type": "markdown",
   "id": "e7ee8f7a",
   "metadata": {},
   "source": [
    "Se toman 10 mediciones del diámetro interno de los tornillos para los pistones del motor de un automóvil. Los datos (en mm) son: 74.001, 74.003, 74.015, 74.000, 74.002, 74.005, 74.001, 74.001, 74.002, 74.004. La media muestral del diámetro interno de los tornillos es:<center> $\\begin{aligned}\n",
    "& \\bar{x}=\\frac{\\sum_{i-1}^{10} x_i}{10}=\\frac{74.001+74.003+\\ldots+74.004}{10} \\\\\n",
    "& \\bar{x}=74.0034 .\n",
    "\\end{aligned}$</center><br>\n",
    "y su varianza viene dada por <br>\n",
    "<center>$\\begin{aligned}\n",
    "s^2 & =\\frac{(74.001-74.0034)^2+(74.003-74.0034)^2+\\ldots+(74.004-74.0034)^2}{10-1} \\\\\n",
    "& \\approx 1.893333 \\times 10^{-5} \\approx 0.0000189\n",
    "\\end{aligned}$</center>"
   ]
  }
 ],
 "metadata": {
  "kernelspec": {
   "display_name": "Python 3 (ipykernel)",
   "language": "python",
   "name": "python3"
  },
  "language_info": {
   "codemirror_mode": {
    "name": "ipython",
    "version": 3
   },
   "file_extension": ".py",
   "mimetype": "text/x-python",
   "name": "python",
   "nbconvert_exporter": "python",
   "pygments_lexer": "ipython3",
   "version": "3.9.7"
  }
 },
 "nbformat": 4,
 "nbformat_minor": 5
}
